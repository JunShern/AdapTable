{
  "nbformat": 4,
  "nbformat_minor": 0,
  "metadata": {
    "colab": {
      "name": "adaptable_dataset_demo.ipynb",
      "provenance": [],
      "collapsed_sections": []
    },
    "kernelspec": {
      "name": "python3",
      "display_name": "Python 3"
    },
    "language_info": {
      "name": "python"
    },
    "widgets": {
      "application/vnd.jupyter.widget-state+json": {
        "571101d8d37b4af6bd3d4028b1528ae0": {
          "model_module": "@jupyter-widgets/controls",
          "model_name": "HBoxModel",
          "model_module_version": "1.5.0",
          "state": {
            "_dom_classes": [],
            "_model_module": "@jupyter-widgets/controls",
            "_model_module_version": "1.5.0",
            "_model_name": "HBoxModel",
            "_view_count": null,
            "_view_module": "@jupyter-widgets/controls",
            "_view_module_version": "1.5.0",
            "_view_name": "HBoxView",
            "box_style": "",
            "children": [
              "IPY_MODEL_bf826e6b62e14fb6bc7f49c3d59b10fc",
              "IPY_MODEL_b993df11fe11441385b11e0dc8bee987",
              "IPY_MODEL_0a367364b6ac47e5921d9169e50b0eab"
            ],
            "layout": "IPY_MODEL_6226edbe0d7041138eb808a0e694a848"
          }
        },
        "bf826e6b62e14fb6bc7f49c3d59b10fc": {
          "model_module": "@jupyter-widgets/controls",
          "model_name": "HTMLModel",
          "model_module_version": "1.5.0",
          "state": {
            "_dom_classes": [],
            "_model_module": "@jupyter-widgets/controls",
            "_model_module_version": "1.5.0",
            "_model_name": "HTMLModel",
            "_view_count": null,
            "_view_module": "@jupyter-widgets/controls",
            "_view_module_version": "1.5.0",
            "_view_name": "HTMLView",
            "description": "",
            "description_tooltip": null,
            "layout": "IPY_MODEL_e1acd0fb9d844368aecc0ddff816c88a",
            "placeholder": "​",
            "style": "IPY_MODEL_af9d7c21ae37409d90cc9bf4f80de3fa",
            "value": "100%"
          }
        },
        "b993df11fe11441385b11e0dc8bee987": {
          "model_module": "@jupyter-widgets/controls",
          "model_name": "FloatProgressModel",
          "model_module_version": "1.5.0",
          "state": {
            "_dom_classes": [],
            "_model_module": "@jupyter-widgets/controls",
            "_model_module_version": "1.5.0",
            "_model_name": "FloatProgressModel",
            "_view_count": null,
            "_view_module": "@jupyter-widgets/controls",
            "_view_module_version": "1.5.0",
            "_view_name": "ProgressView",
            "bar_style": "success",
            "description": "",
            "description_tooltip": null,
            "layout": "IPY_MODEL_c44f377ff16c4a548c2971ea0d22dc56",
            "max": 1,
            "min": 0,
            "orientation": "horizontal",
            "style": "IPY_MODEL_a7111a6f4925466c844138ba0cd10650",
            "value": 1
          }
        },
        "0a367364b6ac47e5921d9169e50b0eab": {
          "model_module": "@jupyter-widgets/controls",
          "model_name": "HTMLModel",
          "model_module_version": "1.5.0",
          "state": {
            "_dom_classes": [],
            "_model_module": "@jupyter-widgets/controls",
            "_model_module_version": "1.5.0",
            "_model_name": "HTMLModel",
            "_view_count": null,
            "_view_module": "@jupyter-widgets/controls",
            "_view_module_version": "1.5.0",
            "_view_name": "HTMLView",
            "description": "",
            "description_tooltip": null,
            "layout": "IPY_MODEL_0c4fdd05a35f4806a5d47eb84d007a3d",
            "placeholder": "​",
            "style": "IPY_MODEL_0cacf02cfc5f4c1db68f1dbbda26ad62",
            "value": " 1/1 [00:00&lt;00:00, 21.04it/s]"
          }
        },
        "6226edbe0d7041138eb808a0e694a848": {
          "model_module": "@jupyter-widgets/base",
          "model_name": "LayoutModel",
          "model_module_version": "1.2.0",
          "state": {
            "_model_module": "@jupyter-widgets/base",
            "_model_module_version": "1.2.0",
            "_model_name": "LayoutModel",
            "_view_count": null,
            "_view_module": "@jupyter-widgets/base",
            "_view_module_version": "1.2.0",
            "_view_name": "LayoutView",
            "align_content": null,
            "align_items": null,
            "align_self": null,
            "border": null,
            "bottom": null,
            "display": null,
            "flex": null,
            "flex_flow": null,
            "grid_area": null,
            "grid_auto_columns": null,
            "grid_auto_flow": null,
            "grid_auto_rows": null,
            "grid_column": null,
            "grid_gap": null,
            "grid_row": null,
            "grid_template_areas": null,
            "grid_template_columns": null,
            "grid_template_rows": null,
            "height": null,
            "justify_content": null,
            "justify_items": null,
            "left": null,
            "margin": null,
            "max_height": null,
            "max_width": null,
            "min_height": null,
            "min_width": null,
            "object_fit": null,
            "object_position": null,
            "order": null,
            "overflow": null,
            "overflow_x": null,
            "overflow_y": null,
            "padding": null,
            "right": null,
            "top": null,
            "visibility": null,
            "width": null
          }
        },
        "e1acd0fb9d844368aecc0ddff816c88a": {
          "model_module": "@jupyter-widgets/base",
          "model_name": "LayoutModel",
          "model_module_version": "1.2.0",
          "state": {
            "_model_module": "@jupyter-widgets/base",
            "_model_module_version": "1.2.0",
            "_model_name": "LayoutModel",
            "_view_count": null,
            "_view_module": "@jupyter-widgets/base",
            "_view_module_version": "1.2.0",
            "_view_name": "LayoutView",
            "align_content": null,
            "align_items": null,
            "align_self": null,
            "border": null,
            "bottom": null,
            "display": null,
            "flex": null,
            "flex_flow": null,
            "grid_area": null,
            "grid_auto_columns": null,
            "grid_auto_flow": null,
            "grid_auto_rows": null,
            "grid_column": null,
            "grid_gap": null,
            "grid_row": null,
            "grid_template_areas": null,
            "grid_template_columns": null,
            "grid_template_rows": null,
            "height": null,
            "justify_content": null,
            "justify_items": null,
            "left": null,
            "margin": null,
            "max_height": null,
            "max_width": null,
            "min_height": null,
            "min_width": null,
            "object_fit": null,
            "object_position": null,
            "order": null,
            "overflow": null,
            "overflow_x": null,
            "overflow_y": null,
            "padding": null,
            "right": null,
            "top": null,
            "visibility": null,
            "width": null
          }
        },
        "af9d7c21ae37409d90cc9bf4f80de3fa": {
          "model_module": "@jupyter-widgets/controls",
          "model_name": "DescriptionStyleModel",
          "model_module_version": "1.5.0",
          "state": {
            "_model_module": "@jupyter-widgets/controls",
            "_model_module_version": "1.5.0",
            "_model_name": "DescriptionStyleModel",
            "_view_count": null,
            "_view_module": "@jupyter-widgets/base",
            "_view_module_version": "1.2.0",
            "_view_name": "StyleView",
            "description_width": ""
          }
        },
        "c44f377ff16c4a548c2971ea0d22dc56": {
          "model_module": "@jupyter-widgets/base",
          "model_name": "LayoutModel",
          "model_module_version": "1.2.0",
          "state": {
            "_model_module": "@jupyter-widgets/base",
            "_model_module_version": "1.2.0",
            "_model_name": "LayoutModel",
            "_view_count": null,
            "_view_module": "@jupyter-widgets/base",
            "_view_module_version": "1.2.0",
            "_view_name": "LayoutView",
            "align_content": null,
            "align_items": null,
            "align_self": null,
            "border": null,
            "bottom": null,
            "display": null,
            "flex": null,
            "flex_flow": null,
            "grid_area": null,
            "grid_auto_columns": null,
            "grid_auto_flow": null,
            "grid_auto_rows": null,
            "grid_column": null,
            "grid_gap": null,
            "grid_row": null,
            "grid_template_areas": null,
            "grid_template_columns": null,
            "grid_template_rows": null,
            "height": null,
            "justify_content": null,
            "justify_items": null,
            "left": null,
            "margin": null,
            "max_height": null,
            "max_width": null,
            "min_height": null,
            "min_width": null,
            "object_fit": null,
            "object_position": null,
            "order": null,
            "overflow": null,
            "overflow_x": null,
            "overflow_y": null,
            "padding": null,
            "right": null,
            "top": null,
            "visibility": null,
            "width": null
          }
        },
        "a7111a6f4925466c844138ba0cd10650": {
          "model_module": "@jupyter-widgets/controls",
          "model_name": "ProgressStyleModel",
          "model_module_version": "1.5.0",
          "state": {
            "_model_module": "@jupyter-widgets/controls",
            "_model_module_version": "1.5.0",
            "_model_name": "ProgressStyleModel",
            "_view_count": null,
            "_view_module": "@jupyter-widgets/base",
            "_view_module_version": "1.2.0",
            "_view_name": "StyleView",
            "bar_color": null,
            "description_width": ""
          }
        },
        "0c4fdd05a35f4806a5d47eb84d007a3d": {
          "model_module": "@jupyter-widgets/base",
          "model_name": "LayoutModel",
          "model_module_version": "1.2.0",
          "state": {
            "_model_module": "@jupyter-widgets/base",
            "_model_module_version": "1.2.0",
            "_model_name": "LayoutModel",
            "_view_count": null,
            "_view_module": "@jupyter-widgets/base",
            "_view_module_version": "1.2.0",
            "_view_name": "LayoutView",
            "align_content": null,
            "align_items": null,
            "align_self": null,
            "border": null,
            "bottom": null,
            "display": null,
            "flex": null,
            "flex_flow": null,
            "grid_area": null,
            "grid_auto_columns": null,
            "grid_auto_flow": null,
            "grid_auto_rows": null,
            "grid_column": null,
            "grid_gap": null,
            "grid_row": null,
            "grid_template_areas": null,
            "grid_template_columns": null,
            "grid_template_rows": null,
            "height": null,
            "justify_content": null,
            "justify_items": null,
            "left": null,
            "margin": null,
            "max_height": null,
            "max_width": null,
            "min_height": null,
            "min_width": null,
            "object_fit": null,
            "object_position": null,
            "order": null,
            "overflow": null,
            "overflow_x": null,
            "overflow_y": null,
            "padding": null,
            "right": null,
            "top": null,
            "visibility": null,
            "width": null
          }
        },
        "0cacf02cfc5f4c1db68f1dbbda26ad62": {
          "model_module": "@jupyter-widgets/controls",
          "model_name": "DescriptionStyleModel",
          "model_module_version": "1.5.0",
          "state": {
            "_model_module": "@jupyter-widgets/controls",
            "_model_module_version": "1.5.0",
            "_model_name": "DescriptionStyleModel",
            "_view_count": null,
            "_view_module": "@jupyter-widgets/base",
            "_view_module_version": "1.2.0",
            "_view_name": "StyleView",
            "description_width": ""
          }
        }
      }
    }
  },
  "cells": [
    {
      "cell_type": "markdown",
      "source": [
        "# AdapTable Dataset Demo\n",
        "\n",
        "This notebook provides a demonstration of loading the AdapTable dataset from the HuggingFace Hub. For more information, please see [our GitHub repo](https://github.com/JunShern/few-shot-adaptation)."
      ],
      "metadata": {
        "id": "9FuN7_rsBAYm"
      }
    },
    {
      "cell_type": "code",
      "execution_count": 1,
      "metadata": {
        "id": "PD59TfTK4DtE"
      },
      "outputs": [],
      "source": [
        "!pip install -q datasets"
      ]
    },
    {
      "cell_type": "code",
      "source": [
        "from datasets import load_dataset\n",
        "\n",
        "distribution_names = [\n",
        "    # Full dataset\n",
        "    \"MicPie/adaptable_full\",\n",
        "    # 5k random tasks from full dataset\n",
        "    \"MicPie/adaptable_5k\",\n",
        "    # Filtered to 1 task per website\n",
        "    \"MicPie/adaptable_unique\",\n",
        "    #  Single website tasks\n",
        "    \"MicPie/adaptable_baseball.fantasysports.yahoo.com\",\n",
        "    \"MicPie/adaptable_bulbapedia.bulbagarden.net\",\n",
        "    \"MicPie/adaptable_cappex.com\",\n",
        "    \"MicPie/adaptable_cram.com\",\n",
        "    \"MicPie/adaptable_dividend.com\",\n",
        "    \"MicPie/adaptable_dummies.com\",\n",
        "    \"MicPie/adaptable_en.wikipedia.org\",\n",
        "    \"MicPie/adaptable_ensembl.org\",\n",
        "    \"MicPie/adaptable_gamefaqs.com\",\n",
        "    \"MicPie/adaptable_mgoblog.com\",\n",
        "    \"MicPie/adaptable_mmo-champion.com\",\n",
        "    \"MicPie/adaptable_msdn.microsoft.com\",\n",
        "    \"MicPie/adaptable_phonearena.com\",\n",
        "    \"MicPie/adaptable_sittercity.com\",\n",
        "    \"MicPie/adaptable_sporcle.com\",\n",
        "    \"MicPie/adaptable_studystack.com\",\n",
        "    \"MicPie/adaptable_support.google.com\",\n",
        "    \"MicPie/adaptable_w3.org\",\n",
        "    \"MicPie/adaptable_wiki.openmoko.org\",\n",
        "    \"MicPie/adaptable_wkdu.org\",\n",
        "    # Single cluster tasks\n",
        "    \"MicPie/adaptable_cluster00\", \"MicPie/adaptable_cluster01\", \"MicPie/adaptable_cluster02\", \"MicPie/adaptable_cluster03\", \"MicPie/adaptable_cluster04\", \"MicPie/adaptable_cluster05\", \"MicPie/adaptable_cluster06\", \"MicPie/adaptable_cluster07\", \"MicPie/adaptable_cluster08\", \"MicPie/adaptable_cluster09\", \"MicPie/adaptable_cluster10\", \"MicPie/adaptable_cluster11\", \"MicPie/adaptable_cluster12\", \"MicPie/adaptable_cluster13\", \"MicPie/adaptable_cluster14\", \"MicPie/adaptable_cluster15\", \"MicPie/adaptable_cluster16\", \"MicPie/adaptable_cluster17\", \"MicPie/adaptable_cluster18\", \"MicPie/adaptable_cluster19\", \"MicPie/adaptable_cluster20\", \"MicPie/adaptable_cluster21\", \"MicPie/adaptable_cluster22\", \"MicPie/adaptable_cluster23\", \"MicPie/adaptable_cluster24\", \"MicPie/adaptable_cluster25\", \"MicPie/adaptable_cluster26\", \"MicPie/adaptable_cluster27\", \"MicPie/adaptable_cluster28\", \"MicPie/adaptable_cluster29\", \"MicPie/adaptable_cluster-noise\", \n",
        "    # Manual-rated tasks\n",
        "    \"MicPie/adaptable_rated-low\", \"MicPie/adaptable_rated-medium\", \"MicPie/adaptable_rated-high\",\n",
        "]\n",
        "\n",
        "# Let's look at the 5k sample dataset\n",
        "dataset = load_dataset('MicPie/adaptable_5k')\n",
        "print(dataset['train'])"
      ],
      "metadata": {
        "colab": {
          "base_uri": "https://localhost:8080/",
          "height": 156,
          "referenced_widgets": [
            "571101d8d37b4af6bd3d4028b1528ae0",
            "bf826e6b62e14fb6bc7f49c3d59b10fc",
            "b993df11fe11441385b11e0dc8bee987",
            "0a367364b6ac47e5921d9169e50b0eab",
            "6226edbe0d7041138eb808a0e694a848",
            "e1acd0fb9d844368aecc0ddff816c88a",
            "af9d7c21ae37409d90cc9bf4f80de3fa",
            "c44f377ff16c4a548c2971ea0d22dc56",
            "a7111a6f4925466c844138ba0cd10650",
            "0c4fdd05a35f4806a5d47eb84d007a3d",
            "0cacf02cfc5f4c1db68f1dbbda26ad62"
          ]
        },
        "id": "ya9lHiRd4MOc",
        "outputId": "411abd7f-242f-4636-adf9-b994bea2808b"
      },
      "execution_count": 2,
      "outputs": [
        {
          "output_type": "stream",
          "name": "stderr",
          "text": [
            "Using custom data configuration default\n",
            "Reusing dataset adaptable_5k (/root/.cache/huggingface/datasets/MicPie___adaptable_5k/default/1.0.0/5ab3257953bcc82cddb96f38905de6dd5c1ed65754cdf1a6d5c97ddbdc32814e)\n"
          ]
        },
        {
          "output_type": "display_data",
          "data": {
            "text/plain": [
              "  0%|          | 0/1 [00:00<?, ?it/s]"
            ],
            "application/vnd.jupyter.widget-view+json": {
              "version_major": 2,
              "version_minor": 0,
              "model_id": "571101d8d37b4af6bd3d4028b1528ae0"
            }
          },
          "metadata": {}
        },
        {
          "output_type": "stream",
          "name": "stdout",
          "text": [
            "Dataset({\n",
            "    features: ['task', 'input', 'output', 'options', 'pageTitle', 'outputColName', 'url', 'wdcFile'],\n",
            "    num_rows: 84492\n",
            "})\n"
          ]
        }
      ]
    },
    {
      "cell_type": "code",
      "source": [
        "from itertools import islice\n",
        "\n",
        "# Print the first 50 rows of the dataset (contains rows from all tasks in a flat list)\n",
        "for row in islice(dataset['train'], 20):\n",
        "    print(row)\n",
        "print(\"...\")"
      ],
      "metadata": {
        "colab": {
          "base_uri": "https://localhost:8080/"
        },
        "id": "b1lYKSHb4Q76",
        "outputId": "1d8acfdb-4e82-4dbe-f658-90d420389355"
      },
      "execution_count": 3,
      "outputs": [
        {
          "output_type": "stream",
          "name": "stdout",
          "text": [
            "{'task': '2962b1e5_asteurized_Milk____Eating_Well__COMMENTS', 'input': '[POSTED] 07/27/2015 - 2:34am [COMMENTS] ', 'output': 'Homogenization is a major contributor to heart disease bc the fat molecules that would not normally pass into the blood stream quickly are broken down and actually damage blood vessels due to the speed of absorption/smaller size, over years this causes cholesterol to adhere to the micro lesions formed by the fat molecules clogging the blood vessel. — Anonymous', 'options': [], 'pageTitle': 'Is Raw Milk More Nutritious than Pasteurized Milk? - Eating Well', 'outputColName': 'COMMENTS', 'url': 'http://www.eatingwell.com/nutrition_health/nutrition_news_information/is_raw_milk_more_nutritious_than_pasteurized_milk?order=timestamp&sort=desc&quicktabs_1=1', 'wdcFile': '25/1438042987155.85_20150728002307-00234-ip-10-236-191-2_417594383_0.json'}\n",
            "{'task': '2962b1e5_asteurized_Milk____Eating_Well__COMMENTS', 'input': '[POSTED] 07/10/2015 - 8:52pm [COMMENTS] ', 'output': \"I am curious about how all of these seemingly imminent dangers are in touch with reality. China, with it's incredible population and diversity, does not pasteurize it's milk. All of their dairy is raw. According to these raging statistics, they should be wiped out in swaths by listeria. But they are not - in fact, I have yet to actually see an article about Chinese dairy anywhere. I feel like it's all hype to keep us in the grocery stores, but that is just conjecture. — Anonymous\", 'options': [], 'pageTitle': 'Is Raw Milk More Nutritious than Pasteurized Milk? - Eating Well', 'outputColName': 'COMMENTS', 'url': 'http://www.eatingwell.com/nutrition_health/nutrition_news_information/is_raw_milk_more_nutritious_than_pasteurized_milk?order=timestamp&sort=desc&quicktabs_1=1', 'wdcFile': '25/1438042987155.85_20150728002307-00234-ip-10-236-191-2_417594383_0.json'}\n",
            "{'task': '2962b1e5_asteurized_Milk____Eating_Well__COMMENTS', 'input': '[POSTED] 05/06/2015 - 7:53pm [COMMENTS] ', 'output': 'My mother contracted undulant fever (brucellosis) from drinking raw milk when she was about 10 years old. She was one of 11 children, and was the only one that got sick. She was sick for almost a year and was left with a heart murmur and overall poor health for the rest of her life. Like most families back in the day, they had a couple of milk cows that were grass fed. Their living conditions were more upscale since her father was a contractor, so I do not believe uncleanliness had anything to do with it. If my mom was still alive, she would say, DO NOT DRINK UNPASTEURIZED MILK! - Anonymous — Anonymous', 'options': [], 'pageTitle': 'Is Raw Milk More Nutritious than Pasteurized Milk? - Eating Well', 'outputColName': 'COMMENTS', 'url': 'http://www.eatingwell.com/nutrition_health/nutrition_news_information/is_raw_milk_more_nutritious_than_pasteurized_milk?order=timestamp&sort=desc&quicktabs_1=1', 'wdcFile': '25/1438042987155.85_20150728002307-00234-ip-10-236-191-2_417594383_0.json'}\n",
            "{'task': '2962b1e5_asteurized_Milk____Eating_Well__COMMENTS', 'input': '[POSTED] 04/21/2015 - 5:09pm [COMMENTS] ', 'output': 'I think I will trust God for his cow then the one who are trying to dystroy his work, yes the raw milk beat it all — Anonymous', 'options': [], 'pageTitle': 'Is Raw Milk More Nutritious than Pasteurized Milk? - Eating Well', 'outputColName': 'COMMENTS', 'url': 'http://www.eatingwell.com/nutrition_health/nutrition_news_information/is_raw_milk_more_nutritious_than_pasteurized_milk?order=timestamp&sort=desc&quicktabs_1=1', 'wdcFile': '25/1438042987155.85_20150728002307-00234-ip-10-236-191-2_417594383_0.json'}\n",
            "{'task': '2962b1e5_asteurized_Milk____Eating_Well__COMMENTS', 'input': '[POSTED] 04/18/2015 - 11:35am [COMMENTS] ', 'output': \"Bought my first gallon of raw milk today along with raw yogurt. Both taste delicious and I'm excited about introducing them to my family's diet - gradually - and seeing the benefits that non-chemically processed dairy will bring for us. We are awful allergy sufferers and are hopeful that locally grown fruits and veggies, as well as locally produced honey and dairy will alleviate our symptoms. — Anonymous\", 'options': [], 'pageTitle': 'Is Raw Milk More Nutritious than Pasteurized Milk? - Eating Well', 'outputColName': 'COMMENTS', 'url': 'http://www.eatingwell.com/nutrition_health/nutrition_news_information/is_raw_milk_more_nutritious_than_pasteurized_milk?order=timestamp&sort=desc&quicktabs_1=1', 'wdcFile': '25/1438042987155.85_20150728002307-00234-ip-10-236-191-2_417594383_0.json'}\n",
            "{'task': '2962b1e5_asteurized_Milk____Eating_Well__COMMENTS', 'input': '[POSTED] 04/06/2015 - 3:17am [COMMENTS] ', 'output': \"I live on a dairy farm and so does the rest of my family. I've been drinking raw milk nearly all my life, so have my brothers and my dad. We don't get sick from it. If there is really bad bacteria in the milk, it is because the cow is sick, and no amount of diluting or watering down will stop you from getting sick then. If the cow is sick, the milk is bad, the cow is fine, the milk is fine. Raw milk is also thicker, and does have more proteins than the watered down stuff, I only drink it when we dry off the cows. Its not as good — Anonymous\", 'options': [], 'pageTitle': 'Is Raw Milk More Nutritious than Pasteurized Milk? - Eating Well', 'outputColName': 'COMMENTS', 'url': 'http://www.eatingwell.com/nutrition_health/nutrition_news_information/is_raw_milk_more_nutritious_than_pasteurized_milk?order=timestamp&sort=desc&quicktabs_1=1', 'wdcFile': '25/1438042987155.85_20150728002307-00234-ip-10-236-191-2_417594383_0.json'}\n",
            "{'task': '2962b1e5_asteurized_Milk____Eating_Well__COMMENTS', 'input': '[POSTED] 02/25/2015 - 4:40pm [COMMENTS] ', 'output': \"I can't believe that in this day and age educated people can be so stupid on the subjects of real whole food. What do they think the settlers lived on. I grew up on a dairy and drank raw milk out of the bulk tank every day of my life. I find it interesting that after we started having government tell how to process food. We now have more people with allergies and such than before. Why cant we use common sense and figure out that it is the chemicals and preservatives in our food chain that are causing so many of our health problems. Think about cancer, It use to be if you smoked you would get it , now everyone has it. I have no more than a highschool education, but common sense and that will go a lot farther than some of the thinking of these people with PHD's. — Anonymous\", 'options': [], 'pageTitle': 'Is Raw Milk More Nutritious than Pasteurized Milk? - Eating Well', 'outputColName': 'COMMENTS', 'url': 'http://www.eatingwell.com/nutrition_health/nutrition_news_information/is_raw_milk_more_nutritious_than_pasteurized_milk?order=timestamp&sort=desc&quicktabs_1=1', 'wdcFile': '25/1438042987155.85_20150728002307-00234-ip-10-236-191-2_417594383_0.json'}\n",
            "{'task': '2962b1e5_asteurized_Milk____Eating_Well__COMMENTS', 'input': '[POSTED] 02/19/2015 - 4:10pm [COMMENTS] ', 'output': 'I agree — Anonymous', 'options': [], 'pageTitle': 'Is Raw Milk More Nutritious than Pasteurized Milk? - Eating Well', 'outputColName': 'COMMENTS', 'url': 'http://www.eatingwell.com/nutrition_health/nutrition_news_information/is_raw_milk_more_nutritious_than_pasteurized_milk?order=timestamp&sort=desc&quicktabs_1=1', 'wdcFile': '25/1438042987155.85_20150728002307-00234-ip-10-236-191-2_417594383_0.json'}\n",
            "{'task': '2962b1e5_asteurized_Milk____Eating_Well__COMMENTS', 'input': '[POSTED] 01/23/2015 - 11:37am [COMMENTS] ', 'output': \"You all realize that the reason pasteurization was started is because of the milking conditions? Of course you're going to get Listeria and who knows what else when the conditions aren't sanitary. Milking conditions are much more controlled and much more sanitary than they were years ago. Pasteurization also kills the good bacteria in milk and homogenization breaks up the fat so you don't have that awesome separation of cream like you do with raw milk. Also, you can get listeria from : -eady-to-eat deli meats and hot -Refrigerated pâtés or meat spreads -Soft cheese made with unpasteurized milk, such as queso fresco, Feta, Brie, Camembert -Refrigerated smoked seafood -Raw sprouts -Vegetables -Fruit So raw milk isn't the only thing you can get listeria from so stating that is the reason why one shouldn't drink it is a bogus reason. — Anonymous\", 'options': [], 'pageTitle': 'Is Raw Milk More Nutritious than Pasteurized Milk? - Eating Well', 'outputColName': 'COMMENTS', 'url': 'http://www.eatingwell.com/nutrition_health/nutrition_news_information/is_raw_milk_more_nutritious_than_pasteurized_milk?order=timestamp&sort=desc&quicktabs_1=1', 'wdcFile': '25/1438042987155.85_20150728002307-00234-ip-10-236-191-2_417594383_0.json'}\n",
            "{'task': '2962b1e5_asteurized_Milk____Eating_Well__COMMENTS', 'input': '[POSTED] 01/11/2015 - 5:54pm [COMMENTS] ', 'output': \"I think that people need to realize the seriousness of raw milk. Yes you might drink it all of you life and nothing will happen to you, but you can't deny the fact that their have been serious outcomes by drinking raw milk. There are benefits for both, but are the benefits of raw milk really worth losing a child or having your child deal with health problems for the rest of their lives? And as for the FDA and RX companies, have you ever compared the price of raw milk to the price of pasteurized? Raw milk is always more expensive. Did you ever think that its just a passing fad, that farmers are trying to make more money off of. Its not for anyone to decide for you what to drink, but PLEASE make sure you are aware of all the long term effects that there are of raw milk, before you take the life and health of your child into your hands, with one simple decision! — Anonymous\", 'options': [], 'pageTitle': 'Is Raw Milk More Nutritious than Pasteurized Milk? - Eating Well', 'outputColName': 'COMMENTS', 'url': 'http://www.eatingwell.com/nutrition_health/nutrition_news_information/is_raw_milk_more_nutritious_than_pasteurized_milk?order=timestamp&sort=desc&quicktabs_1=1', 'wdcFile': '25/1438042987155.85_20150728002307-00234-ip-10-236-191-2_417594383_0.json'}\n",
            "{'task': '15d89d4b__news_nntp___API_documentation__0', 'input': '[1] parseRange [2] Undocumented [0] ', 'output': 'Function', 'options': [['F', 'u', 'n', 'c', 't', 'i', 'o', 'n'], ['C', 'l', 'a', 's', 's']], 'pageTitle': 'twisted.news.nntp : API documentation', 'outputColName': '0', 'url': 'http://twistedmatrix.com/documents/12.3.0/api/twisted.news.nntp.html', 'wdcFile': '38/1438043062723.96_20150728002422-00329-ip-10-236-191-2_242565105_1.json'}\n",
            "{'task': '15d89d4b__news_nntp___API_documentation__0', 'input': '[1] extractCode [2] Undocumented [0] ', 'output': 'Function', 'options': [['F', 'u', 'n', 'c', 't', 'i', 'o', 'n'], ['C', 'l', 'a', 's', 's']], 'pageTitle': 'twisted.news.nntp : API documentation', 'outputColName': '0', 'url': 'http://twistedmatrix.com/documents/12.3.0/api/twisted.news.nntp.html', 'wdcFile': '38/1438043062723.96_20150728002422-00329-ip-10-236-191-2_242565105_1.json'}\n",
            "{'task': '15d89d4b__news_nntp___API_documentation__0', 'input': '[1] NNTPError [2] Undocumented [0] ', 'output': 'Class', 'options': [['F', 'u', 'n', 'c', 't', 'i', 'o', 'n'], ['C', 'l', 'a', 's', 's']], 'pageTitle': 'twisted.news.nntp : API documentation', 'outputColName': '0', 'url': 'http://twistedmatrix.com/documents/12.3.0/api/twisted.news.nntp.html', 'wdcFile': '38/1438043062723.96_20150728002422-00329-ip-10-236-191-2_242565105_1.json'}\n",
            "{'task': '15d89d4b__news_nntp___API_documentation__0', 'input': '[1] NNTPClient [2] No class docstring; 36/60 methods documented [0] ', 'output': 'Class', 'options': [['F', 'u', 'n', 'c', 't', 'i', 'o', 'n'], ['C', 'l', 'a', 's', 's']], 'pageTitle': 'twisted.news.nntp : API documentation', 'outputColName': '0', 'url': 'http://twistedmatrix.com/documents/12.3.0/api/twisted.news.nntp.html', 'wdcFile': '38/1438043062723.96_20150728002422-00329-ip-10-236-191-2_242565105_1.json'}\n",
            "{'task': '15d89d4b__news_nntp___API_documentation__0', 'input': '[1] NNTPServer [2] No class docstring; 1/62 methods documented [0] ', 'output': 'Class', 'options': [['F', 'u', 'n', 'c', 't', 'i', 'o', 'n'], ['C', 'l', 'a', 's', 's']], 'pageTitle': 'twisted.news.nntp : API documentation', 'outputColName': '0', 'url': 'http://twistedmatrix.com/documents/12.3.0/api/twisted.news.nntp.html', 'wdcFile': '38/1438043062723.96_20150728002422-00329-ip-10-236-191-2_242565105_1.json'}\n",
            "{'task': '15d89d4b__news_nntp___API_documentation__0', 'input': '[1] UsenetClientProtocol [2] A client that connects to an NNTP server and asks for articles new since a certain time. [0] ', 'output': 'Class', 'options': [['F', 'u', 'n', 'c', 't', 'i', 'o', 'n'], ['C', 'l', 'a', 's', 's']], 'pageTitle': 'twisted.news.nntp : API documentation', 'outputColName': '0', 'url': 'http://twistedmatrix.com/documents/12.3.0/api/twisted.news.nntp.html', 'wdcFile': '38/1438043062723.96_20150728002422-00329-ip-10-236-191-2_242565105_1.json'}\n",
            "{'task': '2b3a848f_ck___We_Survived_Our_Road_Trip___ACTUALLY_Did_on_the_Road_Trip', 'input': 'Get such an early start and make such great time and feel so alert that we just drive straight on through the whole 1500 miles. Get tired slightly past half way and find a nice inexpensive hotel to stay in for the night.', 'output': 'Wander around Jackson Tennessee for 45 minutes trying to find a non-scary hotel room only to finally find out that all the hotels are booked up because Lane college is having their homecoming that weekend.', 'options': [], 'pageTitle': 'Where is the Laugh Track?: We Survived Our Road Trip', 'outputColName': 'Things We ACTUALLY Did on the Road Trip', 'url': 'http://whereisthelaughtrack.blogspot.com/2013/11/we-survived-our-road-trip.html', 'wdcFile': '30/1438042986625.58_20150728002306-00283-ip-10-236-191-2_252774027_0.json'}\n",
            "{'task': '2b3a848f_ck___We_Survived_Our_Road_Trip___ACTUALLY_Did_on_the_Road_Trip', 'input': 'Set the cruise control and make great time. Hit a little traffic here and there and get in later than hoped for.', 'output': 'Get detoured to small country roads in the middle of the night for 30 miles because the interstate was closed just outside Memphis TN AND hit such bad traffic in Virginia that we actually put the car in park and turned off the engine for 30 minutes.', 'options': [], 'pageTitle': 'Where is the Laugh Track?: We Survived Our Road Trip', 'outputColName': 'Things We ACTUALLY Did on the Road Trip', 'url': 'http://whereisthelaughtrack.blogspot.com/2013/11/we-survived-our-road-trip.html', 'wdcFile': '30/1438042986625.58_20150728002306-00283-ip-10-236-191-2_252774027_0.json'}\n",
            "{'task': '2b3a848f_ck___We_Survived_Our_Road_Trip___ACTUALLY_Did_on_the_Road_Trip', 'input': 'Enter an address in the GPS and get accurate, concise directions for getting there. Listen to the GPS say “Recalculating” every time we had to get off the freeway to pee.', 'output': 'Have the GPS lose satellite reception every time we looked at it wrong. Have it choose yet another slightly different route for getting there every time we tried to drive to the same place. Develop suspicion that the GPS is getting paid for every unique street it makes us drive on. End up renaming the GPS “Willis” so that we can start saying, “What choo talkin’ ‘bout, Willis?”', 'options': [], 'pageTitle': 'Where is the Laugh Track?: We Survived Our Road Trip', 'outputColName': 'Things We ACTUALLY Did on the Road Trip', 'url': 'http://whereisthelaughtrack.blogspot.com/2013/11/we-survived-our-road-trip.html', 'wdcFile': '30/1438042986625.58_20150728002306-00283-ip-10-236-191-2_252774027_0.json'}\n",
            "{'task': '2b3a848f_ck___We_Survived_Our_Road_Trip___ACTUALLY_Did_on_the_Road_Trip', 'input': 'Only go to the bathroom at meal stops. Make pit stops every 2 hours.', 'output': 'Pee early and pee often. Have the dedication to pee 3 times in an hour, whether we need to or not. Pee before the meal, after the meal, and again 20 minutes after we finally get back on the road. ALL THE SAME KID. Get our drink privileges taken away.', 'options': [], 'pageTitle': 'Where is the Laugh Track?: We Survived Our Road Trip', 'outputColName': 'Things We ACTUALLY Did on the Road Trip', 'url': 'http://whereisthelaughtrack.blogspot.com/2013/11/we-survived-our-road-trip.html', 'wdcFile': '30/1438042986625.58_20150728002306-00283-ip-10-236-191-2_252774027_0.json'}\n",
            "...\n"
          ]
        }
      ]
    },
    {
      "cell_type": "code",
      "source": [
        "# Separate rows by task\n",
        "dataset_by_task = {}\n",
        "for row in dataset['train']:\n",
        "    dataset_by_task.setdefault(row['task'], []).append(row)\n",
        "assert sum([len(task_rows) for task_rows in dataset_by_task.values()]) == len(dataset['train'])"
      ],
      "metadata": {
        "id": "gIehsf5N-Fny"
      },
      "execution_count": 4,
      "outputs": []
    },
    {
      "cell_type": "code",
      "source": [
        "# Show tasks\n",
        "num_tasks = 10\n",
        "max_rows_per_task = 3\n",
        "for task_name, task_rows in islice(dataset_by_task.items(), num_tasks):\n",
        "    print(f\"TASK: {task_name} ({len(task_rows)} rows)\")\n",
        "    for row in task_rows[:max_rows_per_task]:\n",
        "        print(f\"INPUT  : {row['input']}\")\n",
        "        print(f\"OUTPUT : {row['output']}\")\n",
        "    print(\"...\\n\")"
      ],
      "metadata": {
        "colab": {
          "base_uri": "https://localhost:8080/"
        },
        "id": "qrvNfQ7V4VkB",
        "outputId": "1fc7f6ff-d7fb-4f3f-ff89-3e37e6d9bb9d"
      },
      "execution_count": 5,
      "outputs": [
        {
          "output_type": "stream",
          "name": "stdout",
          "text": [
            "TASK: 2962b1e5_asteurized_Milk____Eating_Well__COMMENTS (10 rows)\n",
            "INPUT  : [POSTED] 07/27/2015 - 2:34am [COMMENTS] \n",
            "OUTPUT : Homogenization is a major contributor to heart disease bc the fat molecules that would not normally pass into the blood stream quickly are broken down and actually damage blood vessels due to the speed of absorption/smaller size, over years this causes cholesterol to adhere to the micro lesions formed by the fat molecules clogging the blood vessel. — Anonymous\n",
            "INPUT  : [POSTED] 07/10/2015 - 8:52pm [COMMENTS] \n",
            "OUTPUT : I am curious about how all of these seemingly imminent dangers are in touch with reality. China, with it's incredible population and diversity, does not pasteurize it's milk. All of their dairy is raw. According to these raging statistics, they should be wiped out in swaths by listeria. But they are not - in fact, I have yet to actually see an article about Chinese dairy anywhere. I feel like it's all hype to keep us in the grocery stores, but that is just conjecture. — Anonymous\n",
            "INPUT  : [POSTED] 05/06/2015 - 7:53pm [COMMENTS] \n",
            "OUTPUT : My mother contracted undulant fever (brucellosis) from drinking raw milk when she was about 10 years old. She was one of 11 children, and was the only one that got sick. She was sick for almost a year and was left with a heart murmur and overall poor health for the rest of her life. Like most families back in the day, they had a couple of milk cows that were grass fed. Their living conditions were more upscale since her father was a contractor, so I do not believe uncleanliness had anything to do with it. If my mom was still alive, she would say, DO NOT DRINK UNPASTEURIZED MILK! - Anonymous — Anonymous\n",
            "...\n",
            "\n",
            "TASK: 15d89d4b__news_nntp___API_documentation__0 (6 rows)\n",
            "INPUT  : [1] parseRange [2] Undocumented [0] \n",
            "OUTPUT : Function\n",
            "INPUT  : [1] extractCode [2] Undocumented [0] \n",
            "OUTPUT : Function\n",
            "INPUT  : [1] NNTPError [2] Undocumented [0] \n",
            "OUTPUT : Class\n",
            "...\n",
            "\n",
            "TASK: 2b3a848f_ck___We_Survived_Our_Road_Trip___ACTUALLY_Did_on_the_Road_Trip (13 rows)\n",
            "INPUT  : Get such an early start and make such great time and feel so alert that we just drive straight on through the whole 1500 miles. Get tired slightly past half way and find a nice inexpensive hotel to stay in for the night.\n",
            "OUTPUT : Wander around Jackson Tennessee for 45 minutes trying to find a non-scary hotel room only to finally find out that all the hotels are booked up because Lane college is having their homecoming that weekend.\n",
            "INPUT  : Set the cruise control and make great time. Hit a little traffic here and there and get in later than hoped for.\n",
            "OUTPUT : Get detoured to small country roads in the middle of the night for 30 miles because the interstate was closed just outside Memphis TN AND hit such bad traffic in Virginia that we actually put the car in park and turned off the engine for 30 minutes.\n",
            "INPUT  : Enter an address in the GPS and get accurate, concise directions for getting there. Listen to the GPS say “Recalculating” every time we had to get off the freeway to pee.\n",
            "OUTPUT : Have the GPS lose satellite reception every time we looked at it wrong. Have it choose yet another slightly different route for getting there every time we tried to drive to the same place. Develop suspicion that the GPS is getting paid for every unique street it makes us drive on. End up renaming the GPS “Willis” so that we can start saying, “What choo talkin’ ‘bout, Willis?”\n",
            "...\n",
            "\n",
            "TASK: a47358a6_Flashcards_about_MKTG_305__Term (21 rows)\n",
            "INPUT  : [Definition] the added value a brand name gives to product beyond the functional benefits provided [Term] \n",
            "OUTPUT : Brand Equity\n",
            "INPUT  : [Definition] a contractual agreement whereby one company (licensor) allows its brand name(s) or trademark(s) to be used with products or services offered by another company (licensee) for a royalty or fee [Term] \n",
            "OUTPUT : Brand Licensing\n",
            "INPUT  : [Definition] any word, device (design, sound, shape, or color), or combination of these used to distinguish a seller's goods or services [Term] \n",
            "OUTPUT : Brand Name\n",
            "...\n",
            "\n",
            "TASK: 461eb313_fuzzy247___mgoblog__Body (30 rows)\n",
            "INPUT  : [Date] 25 weeks 6 days ago [Title] Bowl Bound! [Body] \n",
            "OUTPUT : I still have Bowl Bound on my laptop which I dust off once in a while. It fills the recruiting void since I gave my brother back his xbox 360 years ago. I love the rectuiting aspect even though it seems a little clunky compared to NCAA on the consoles. I picked the worst school (Idaho) and built up a decent program and won the conference title a few times. Then I got invited to join the Big Ten. I don't win many games now but haven't simmed enough seasons to tell if I can compete with the big names. Still a long way to go. A few questions: How hard would it be to create a college football text simulator like Bowl Bound? Creating something like that has always intrigued me but I lack the time and skills to even get started. If there is any kind of Kickstarter with this idea, somebody let me know. How is there not a college football game already for iOS and Android? I know you wouldn't be able to use the college names and/or mascots. Maybe you couldn't even call it \"college\" football. But I think a dynasty type game where you get to build a program and recruit players would be awesome.\n",
            "INPUT  : [Date] 37 weeks 1 day ago [Title] I'm just north of Goshen. [Body] \n",
            "OUTPUT : I'm just north of Goshen. It's actually a relief for ND to lose. I was worried they would somehow sneak into the playoff and I would have to become a hermit or move to a different state...\n",
            "INPUT  : [Date] 1 year 22 weeks ago [Title] Interesting... [Body] \n",
            "OUTPUT : I guess I can see where he's coming from... But does that mean if the Dutch quit wasting talent in speed skating they would have a better basketball team? Maybe we should get a chart to compare the salaries and fame of football players and speed skaters. Then he could see why a lot of young men \"waste their talent\" with such violent activities. I would probably watch more speed skating if Denard was on the ice though.\n",
            "...\n",
            "\n",
            "TASK: 4e82b8ad_ogenase___Homo_sapiens__Human___Feature_key (55 rows)\n",
            "INPUT  : [Position(s)] 32 – 37 [Length] 6 [Description] Combined sources Manually validated information inferred from a combination of experimental and computational evidence. More… Manual assertion inferred from combination of experimental and computational evidencei PDB:2BH9 [Feature key] \n",
            "OUTPUT : Is used to indicate the positions of experimentally determined beta strands within the protein sequence.More...Beta strandi\n",
            "INPUT  : [Position(s)] 38 – 40 [Length] 3 [Description] Combined sources Manually validated information inferred from a combination of experimental and computational evidence. More… Manual assertion inferred from combination of experimental and computational evidencei PDB:2BH9 [Feature key] \n",
            "OUTPUT : Is used to indicate the positions of experimentally determined hydrogen-bonded turns within the protein sequence. These elements correspond to the DSSP secondary structure code ‘T’.More...Turni\n",
            "INPUT  : [Position(s)] 42 – 46 [Length] 5 [Description] Combined sources Manually validated information inferred from a combination of experimental and computational evidence. More… Manual assertion inferred from combination of experimental and computational evidencei PDB:2BH9 [Feature key] \n",
            "OUTPUT : Is used to indicate the positions of experimentally determined helical regions within the protein sequence.More...Helixi\n",
            "...\n",
            "\n",
            "TASK: 02dab5cc_at_are_the_keyboard_shortcuts___Action (26 rows)\n",
            "INPUT  : [Shortcut Key] t [Definition] Add [Action] \n",
            "OUTPUT : Add a new item to the current list\n",
            "INPUT  : [Shortcut Key] c [Definition] Complete [Action] \n",
            "OUTPUT : Complete the selected task/s\n",
            "INPUT  : [Shortcut Key] p [Definition] Postpone [Action] \n",
            "OUTPUT : Postpone the selected task/s by one day if they have a due date\n",
            "...\n",
            "\n",
            "TASK: a77a9aa8_oshi_chan___Christina_Vespucci__2 (8 rows)\n",
            "INPUT  : [0] Collar [1] High [2] \n",
            "OUTPUT : Complete\n",
            "INPUT  : [0] Red Camicia [1] High [2] \n",
            "OUTPUT : Complete\n",
            "INPUT  : [0] Ivory Sottana [1] High [2] \n",
            "OUTPUT : Complete\n",
            "...\n",
            "\n",
            "TASK: f2bf3ab6_ent_State_University_Libraries__Meaning (9 rows)\n",
            "INPUT  : [KentLINK Status] DUE mm-dd-yy [Meaning] \n",
            "OUTPUT : The item is currently checked out and due on the date given.\n",
            "INPUT  : [KentLINK Status] DUE mm-dd-yyOFF CAMPUS [Meaning] \n",
            "OUTPUT : The item has been loaned to another institution and is due on the date given.\n",
            "INPUT  : [KentLINK Status] JUST RETURNED [Meaning] \n",
            "OUTPUT : The item was returned to the library within the last 48 hours. Check the sorting range on that floor, and/or ask about the item at the Circulation Desk.\n",
            "...\n",
            "\n",
            "TASK: 0f4cf0ef__Support_Your_Weight_Loss_Diet__Mechanism_of_Action (9 rows)\n",
            "INPUT  : [Weight Loss Nutrient] Irvingia gabonensis (African Mango) [Category] Appetite Suppression [Suggested Dosing] 150 mg twice a day. [Mechanism of Action] \n",
            "OUTPUT : Decreases appetite by breaking leptin resistance (leptin is a hormone that signals the brain to stop eating). The average weight loss was around 20 pounds in 10 weeks.1\n",
            "INPUT  : [Weight Loss Nutrient] White Kidney Bean [Category] Sugar Blocker [Suggested Dosing] 445 mg twice a day. Take 15 minutes before the heaviest meals of the day. [Mechanism of Action] \n",
            "OUTPUT : Inhibits amylase, the digestive enzyme that breaks down carbohydrates to be absorbed into the bloodstream as glucose. Resulted in a loss of 6.5 pounds on average in just 30 days.2,3,4\n",
            "INPUT  : [Weight Loss Nutrient] Brown Seaweed Kelp and Bladderwrack [Category] Sugar Blocker [Suggested Dosing] 250 mg/day. [Mechanism of Action] \n",
            "OUTPUT : Together they block two digestive enzymes: amylase, which helps break down starches into glucose molecules, and glucosidase, which breaks down simple carbohydrates into glucose.In laboratory studies, reduced after-meal fluctuations in blood sugar by up to 90% when compared to non-supplemented animals and reduced blood insulin levels by as much as 40%.5\n",
            "...\n",
            "\n"
          ]
        }
      ]
    }
  ]
}